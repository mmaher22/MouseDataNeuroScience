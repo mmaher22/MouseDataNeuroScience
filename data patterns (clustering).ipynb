{
 "cells": [
  {
   "cell_type": "code",
   "execution_count": 3,
   "metadata": {},
   "outputs": [],
   "source": [
    "from scipy import io\n",
    "import os\n",
    "import numpy as np\n",
    "from scipy.sparse.linalg import eigsh\n",
    "import random\n",
    "import matplotlib.pyplot as plt\n",
    "%matplotlib inline\n",
    "import utils\n",
    "clas = io.loadmat('./media/stimuli_class_assignment_confident.mat')\n",
    "dat = io.loadmat('./media/natimg2800_M170714_MP032_2017-09-14.mat')\n",
    "\n",
    "resp = dat['stim'][0]['resp'][0] # stim x neurons\n",
    "spont = dat['stim'][0]['spont'][0] # timepts x neurons\n",
    "# istim = (dat['stim'][0]['istim'][0]).astype(np.int32) # stim ids \n",
    "# istim -= 1 # get out of MATLAB convention\n",
    "# istim = istim[:,0]\n",
    "# nimg = istim.max() # these are blank stims (exclude them)\n",
    "# resp = resp[istim<nimg, :]\n",
    "# istim = istim[istim<nimg]\n",
    "\n",
    "# # subtract spont (32D)\n",
    "# mu = spont.mean(axis=0)\n",
    "# sd = spont.std(axis=0) + 1e-6\n",
    "# resp = (resp - mu) / sd\n",
    "# spont = (spont - mu) / sd\n",
    "# sv,u = eigsh(spont.T @ spont, k=32)\n",
    "# resp = resp - (resp @ u) @ u.T\n",
    "\n",
    "# # mean center each neuron\n",
    "# resp -= resp.mean(axis=0)"
   ]
  },
  {
   "cell_type": "code",
   "execution_count": 3,
   "metadata": {},
   "outputs": [
    {
     "name": "stdout",
     "output_type": "stream",
     "text": [
      "(6980, 9476)\n",
      "(335, 9476)\n"
     ]
    }
   ],
   "source": [
    "print(resp.shape)\n",
    "print(spont.shape)"
   ]
  },
  {
   "cell_type": "code",
   "execution_count": 43,
   "metadata": {},
   "outputs": [
    {
     "name": "stdout",
     "output_type": "stream",
     "text": [
      "6980\n",
      "2801\n",
      "3\n"
     ]
    }
   ],
   "source": [
    "label=[]\n",
    "for l in dat['stim'][0]['istim'][0]:\n",
    "    label.append(l[0])\n",
    "print(len(label))\n",
    "print(len(set(label)))\n",
    "print(label[0])"
   ]
  },
  {
   "cell_type": "code",
   "execution_count": 44,
   "metadata": {},
   "outputs": [
    {
     "name": "stdout",
     "output_type": "stream",
     "text": [
      "2646.0\n",
      "2646.0\n"
     ]
    }
   ],
   "source": [
    "print(np.mean(l))\n",
    "print(np.median(l))"
   ]
  },
  {
   "cell_type": "code",
   "execution_count": 45,
   "metadata": {},
   "outputs": [
    {
     "data": {
      "text/plain": [
       "2800"
      ]
     },
     "execution_count": 45,
     "metadata": {},
     "output_type": "execute_result"
    }
   ],
   "source": [
    "len(clas[\"class_assignment\"][0])"
   ]
  },
  {
   "cell_type": "markdown",
   "metadata": {},
   "source": [
    "- get images with the same label"
   ]
  },
  {
   "cell_type": "code",
   "execution_count": 46,
   "metadata": {},
   "outputs": [],
   "source": [
    "imgs={}\n",
    "for i in range(len(label)):\n",
    "    try:    \n",
    "        imgs[label [i]].append(i)\n",
    "    except:\n",
    "        imgs[label [i]] = [i]"
   ]
  },
  {
   "cell_type": "markdown",
   "metadata": {},
   "source": [
    "#### Experiment to check the distance between neurons response for the same image. and printing the mean, std value, max, min distance"
   ]
  },
  {
   "cell_type": "code",
   "execution_count": 28,
   "metadata": {},
   "outputs": [
    {
     "name": "stdout",
     "output_type": "stream",
     "text": [
      "12996.79\n",
      "2300.0635\n",
      "21409.63\n",
      "8027.563\n"
     ]
    }
   ],
   "source": [
    "dists=[]\n",
    "for key in imgs:\n",
    "    if len(imgs[key])==2:\n",
    "        dist=np.linalg.norm(resp[imgs[key][0]]-resp[imgs[key][1]])\n",
    "    elif len(imgs[key])==3:\n",
    "        dist1=np.linalg.norm(resp[imgs[key][0]]-resp[imgs[key][1]])\n",
    "        dist2=np.linalg.norm(resp[imgs[key][0]]-resp[imgs[key][2]])\n",
    "        dist3=np.linalg.norm(resp[imgs[key][1]]-resp[imgs[key][2]])\n",
    "        dist=np.mean([dist1,dist2,dist3])\n",
    "    dists.append(dist)\n",
    "\n",
    "print(np.mean(dists))\n",
    "print(np.std(dists))\n",
    "print(max(dists))\n",
    "print(min(dists))\n",
    "        \n",
    "        "
   ]
  },
  {
   "cell_type": "markdown",
   "metadata": {},
   "source": [
    "Check the same value for the same number of random neuron reponses "
   ]
  },
  {
   "cell_type": "code",
   "execution_count": 29,
   "metadata": {},
   "outputs": [
    {
     "name": "stdout",
     "output_type": "stream",
     "text": [
      "14125.417\n",
      "2673.4502\n",
      "23472.658\n",
      "6950.943\n"
     ]
    }
   ],
   "source": [
    "m=len(resp)-1\n",
    "dists=[]\n",
    "for i in range(len(resp[0])):\n",
    "    l1=random.randint(0,m)\n",
    "    l2=random.randint(0,m)\n",
    "    while l2 == l1:\n",
    "        l2=random.randint(0,m)\n",
    "        \n",
    "    dist=np.linalg.norm(resp[l1]-resp[l2])\n",
    "    dists.append(dist)\n",
    "\n",
    "print(np.mean(dists))\n",
    "print(np.std(dists))\n",
    "print(max(dists))\n",
    "print(min(dists))\n",
    "        "
   ]
  },
  {
   "cell_type": "markdown",
   "metadata": {},
   "source": [
    "#### Experiments to relate neurons firing to each other. "
   ]
  },
  {
   "cell_type": "markdown",
   "metadata": {},
   "source": [
    "1. assuming that any value equals or above 1.0 means that a neuron fires. "
   ]
  },
  {
   "cell_type": "markdown",
   "metadata": {},
   "source": [
    "Check which neurons always fires when neuron \"1\" fires. "
   ]
  },
  {
   "cell_type": "code",
   "execution_count": 5,
   "metadata": {},
   "outputs": [
    {
     "name": "stdout",
     "output_type": "stream",
     "text": [
      "[(1, 4434), (8044, 3979), (5596, 3968), (3960, 3958), (122, 3936)]\n"
     ]
    }
   ],
   "source": [
    "import operator\n",
    "n={}\n",
    "for i in range (len(resp[0])):\n",
    "    n[i]=0\n",
    "    \n",
    "le1=len(resp)\n",
    "le2=len(resp[0])\n",
    "\n",
    "for i in range(le1):\n",
    "    \n",
    "    tmp=[]\n",
    "    for u in range(le2):\n",
    "        if resp[i][1]>1.0:\n",
    "            if resp[i][u]>1.0:\n",
    "                n[u]+=1\n",
    "\n",
    "sorted_x = list(sorted(n.items(), key=operator.itemgetter(1),reverse=True))\n",
    "print(sorted_x[:5])"
   ]
  },
  {
   "cell_type": "markdown",
   "metadata": {},
   "source": [
    "Trying different 10 neurons "
   ]
  },
  {
   "cell_type": "code",
   "execution_count": 10,
   "metadata": {},
   "outputs": [
    {
     "name": "stdout",
     "output_type": "stream",
     "text": [
      "[(2, 60), (8044, 59), (8125, 59), (5432, 58), (8969, 58)]\n",
      "[(3, 58), (8044, 57), (8969, 57), (2969, 56), (7086, 56)]\n",
      "[(4, 68), (2969, 67), (8044, 67), (281, 66), (385, 66)]\n",
      "[(5, 58), (2969, 57), (8044, 57), (7086, 56), (7446, 56)]\n",
      "[(6, 82), (7086, 81), (8044, 81), (8969, 81), (2969, 79)]\n",
      "[(7, 42), (2969, 42), (8044, 42), (5432, 41), (6335, 41)]\n",
      "[(8, 55), (5442, 54), (8044, 54), (2259, 53), (2969, 53)]\n",
      "[(9, 70), (8044, 69), (7086, 68), (2969, 67), (6503, 67)]\n",
      "[(10, 70), (8044, 69), (2969, 68), (7086, 68), (8791, 68)]\n",
      "[(11, 60), (8044, 60), (8969, 60), (2969, 59), (8740, 59)]\n"
     ]
    }
   ],
   "source": [
    "le1=len(resp)\n",
    "le2=len(resp[0])\n",
    "for nu in range (2,12):\n",
    "    n={}\n",
    "    for i in range (len(resp[0])):\n",
    "        n[i]=0\n",
    "\n",
    "    for i in range(100):\n",
    "\n",
    "        tmp=[]\n",
    "        for u in range(le2):\n",
    "            if resp[i][nu]>1.0:\n",
    "                if resp[i][u]>1.0:\n",
    "                    n[u]+=1\n",
    "\n",
    "    sorted_x = list(sorted(n.items(), key=operator.itemgetter(1),reverse=True))\n",
    "    print(sorted_x[:5])"
   ]
  },
  {
   "cell_type": "markdown",
   "metadata": {},
   "source": [
    "Assuming that neuron fires only when its value is above 50 (the average)"
   ]
  },
  {
   "cell_type": "code",
   "execution_count": 67,
   "metadata": {},
   "outputs": [
    {
     "name": "stdout",
     "output_type": "stream",
     "text": [
      "{1, 7805, 9222, 6327}\n"
     ]
    }
   ],
   "source": [
    "n=set(range(len(resp[0])))\n",
    "\n",
    "le1=len(resp)\n",
    "le2=len(resp[0])\n",
    "\n",
    "for i in range(le1):\n",
    "    \n",
    "    tmp=[]\n",
    "    for u in range(le2):\n",
    "        if resp[i][1]>50.0:\n",
    "            if resp[i][u]>50.0:\n",
    "                tmp.append(u)\n",
    "    if resp[i][1]>50.0:\n",
    "        n= n.intersection(tmp)\n",
    "            \n",
    "\n",
    "print(n)       "
   ]
  },
  {
   "cell_type": "markdown",
   "metadata": {},
   "source": [
    "Assuming that neuron fires only when its value is above 5"
   ]
  },
  {
   "cell_type": "code",
   "execution_count": 78,
   "metadata": {},
   "outputs": [
    {
     "name": "stdout",
     "output_type": "stream",
     "text": [
      "[(1, 2978), (8044, 2658), (3960, 2647), (122, 2640), (5596, 2633)]\n"
     ]
    }
   ],
   "source": [
    "import operator\n",
    "n={}\n",
    "for i in range (len(resp[0])):\n",
    "    n[i]=0\n",
    "    \n",
    "le1=len(resp)\n",
    "le2=len(resp[0])\n",
    "\n",
    "for i in range(le1):\n",
    "    \n",
    "    tmp=[]\n",
    "    for u in range(le2):\n",
    "        if resp[i][1]>5.0:\n",
    "            if resp[i][u]>5.0:\n",
    "                n[u]+=1\n",
    "\n",
    "sorted_x = list(sorted(n.items(), key=operator.itemgetter(1),reverse=True))\n",
    "print(sorted_x[:5])"
   ]
  },
  {
   "cell_type": "markdown",
   "metadata": {},
   "source": [
    "Checking only if the difference between the values is less than 5.0 "
   ]
  },
  {
   "cell_type": "code",
   "execution_count": 83,
   "metadata": {},
   "outputs": [
    {
     "name": "stdout",
     "output_type": "stream",
     "text": [
      "[(1, 79), (664, 36), (7451, 36), (837, 35), (4340, 34)]\n"
     ]
    }
   ],
   "source": [
    "import operator\n",
    "n={}\n",
    "for i in range (len(resp[0])):\n",
    "    n[i]=0\n",
    "    \n",
    "le1=len(resp)\n",
    "le2=len(resp[0])\n",
    "\n",
    "for i in range(100): #100 images only\n",
    "    \n",
    "    tmp=[]\n",
    "    for u in range(le2):\n",
    "        if resp[i][1] >0.0 and resp[i][u]>0:\n",
    "            if abs(resp[i][1] - resp[i][u])<=5.0:\n",
    "                n[u]+=1\n",
    "\n",
    "sorted_x = list(sorted(n.items(), key=operator.itemgetter(1),reverse=True))\n",
    "print(sorted_x[:10])"
   ]
  },
  {
   "cell_type": "code",
   "execution_count": 13,
   "metadata": {},
   "outputs": [
    {
     "name": "stdout",
     "output_type": "stream",
     "text": [
      "[(2, 65), (4655, 21), (4986, 21), (7886, 21), (47, 20), (4987, 20), (5474, 20), (9332, 20), (3292, 19), (5677, 19)]\n",
      "[(3, 62), (8641, 25), (664, 24), (4982, 24), (6793, 24), (8729, 24), (923, 23), (670, 22), (1179, 22), (1626, 22)]\n",
      "[(4, 75), (4986, 36), (1416, 33), (4982, 32), (664, 31), (1328, 31), (574, 30), (670, 30), (5404, 30), (9101, 30)]\n",
      "[(5, 66), (833, 29), (1244, 29), (2330, 27), (4423, 27), (4986, 27), (6529, 27), (7900, 27), (139, 26), (664, 26)]\n",
      "[(6, 82), (3407, 19), (665, 18), (735, 17), (1911, 17), (5766, 17), (6078, 17), (6897, 17), (8483, 17), (416, 16)]\n",
      "[(7, 53), (4986, 33), (833, 26), (4968, 25), (837, 24), (9333, 24), (928, 23), (2326, 23), (2870, 23), (5764, 23)]\n",
      "[(8, 57), (928, 22), (1322, 22), (5404, 21), (3197, 20), (4648, 20), (7416, 20), (428, 19), (1634, 19), (7000, 19)]\n",
      "[(9, 73), (9101, 22), (1397, 21), (1626, 21), (2634, 21), (7900, 21), (8148, 21), (166, 20), (1629, 20), (3224, 20)]\n",
      "[(10, 73), (12, 20), (5495, 20), (8264, 20), (664, 18), (5193, 18), (14, 17), (406, 17), (418, 17), (1898, 17)]\n",
      "[(11, 63), (664, 21), (2776, 21), (6783, 20), (8988, 20), (9099, 20), (4713, 19), (5435, 19), (6834, 19), (5, 18)]\n"
     ]
    }
   ],
   "source": [
    "le1=len(resp)\n",
    "le2=len(resp[0])\n",
    "for nu in range (2,12):\n",
    "    n={}\n",
    "    for i in range (len(resp[0])):\n",
    "        n[i]=0\n",
    "\n",
    "    for i in range(100): #100 images only\n",
    "\n",
    "        tmp=[]\n",
    "        for u in range(le2):\n",
    "            if resp[i][nu] >0.0 and resp[i][u]>0:\n",
    "                if abs(resp[i][nu] - resp[i][u])<=5.0:\n",
    "                    n[u]+=1\n",
    "\n",
    "    sorted_x = list(sorted(n.items(), key=operator.itemgetter(1),reverse=True))\n",
    "    print(sorted_x[:10])"
   ]
  },
  {
   "cell_type": "markdown",
   "metadata": {},
   "source": [
    "### PCA"
   ]
  },
  {
   "cell_type": "code",
   "execution_count": 33,
   "metadata": {},
   "outputs": [
    {
     "data": {
      "text/plain": [
       "array([[ 6.72874634e+02, -4.23329210e+00,  2.83707142e+01, ...,\n",
       "         4.13456726e+02,  1.01351524e+02,  4.14291412e+02],\n",
       "       [-4.23329306e+00,  6.70831421e+02,  5.21993446e+01, ...,\n",
       "         1.41578827e+02,  3.72122116e+01,  1.32583328e+02],\n",
       "       [ 2.83707180e+01,  5.21993484e+01,  1.27614453e+03, ...,\n",
       "         2.90626587e+02,  1.23397301e+02,  8.03831238e+02],\n",
       "       ...,\n",
       "       [ 4.13456726e+02,  1.41578796e+02,  2.90626648e+02, ...,\n",
       "         1.42641943e+04,  1.67661987e+03,  4.50692334e+03],\n",
       "       [ 1.01351540e+02,  3.72122040e+01,  1.23397278e+02, ...,\n",
       "         1.67662000e+03,  5.46494385e+03,  1.72566016e+03],\n",
       "       [ 4.14291595e+02,  1.32583344e+02,  8.03831055e+02, ...,\n",
       "         4.50692334e+03,  1.72566016e+03,  7.01242344e+04]], dtype=float32)"
      ]
     },
     "execution_count": 33,
     "metadata": {},
     "output_type": "execute_result"
    }
   ],
   "source": [
    "from sklearn.decomposition import PCA\n",
    "X = np.array(resp)\n",
    "pca = PCA(n_components=5000)\n",
    "pca.fit(X)\n",
    "pca.get_covariance()"
   ]
  },
  {
   "cell_type": "code",
   "execution_count": 40,
   "metadata": {},
   "outputs": [],
   "source": [
    "new_resp=pca.transform(resp)"
   ]
  },
  {
   "cell_type": "code",
   "execution_count": 41,
   "metadata": {},
   "outputs": [
    {
     "data": {
      "text/plain": [
       "(6980, 5000)"
      ]
     },
     "execution_count": 41,
     "metadata": {},
     "output_type": "execute_result"
    }
   ],
   "source": [
    "new_resp.shape"
   ]
  },
  {
   "cell_type": "code",
   "execution_count": 47,
   "metadata": {},
   "outputs": [
    {
     "name": "stdout",
     "output_type": "stream",
     "text": [
      "12950.291\n",
      "2316.559\n",
      "21394.557\n",
      "7909.606\n"
     ]
    }
   ],
   "source": [
    "dists=[]\n",
    "for key in imgs:\n",
    "    if len(imgs[key])==2:\n",
    "        dist=np.linalg.norm(new_resp[imgs[key][0]]-new_resp[imgs[key][1]])\n",
    "    elif len(imgs[key])==3:\n",
    "        dist1=np.linalg.norm(new_resp[imgs[key][0]]-new_resp[imgs[key][1]])\n",
    "        dist2=np.linalg.norm(new_resp[imgs[key][0]]-new_resp[imgs[key][2]])\n",
    "        dist3=np.linalg.norm(new_resp[imgs[key][1]]-new_resp[imgs[key][2]])\n",
    "        dist=np.mean([dist1,dist2,dist3])\n",
    "    dists.append(dist)\n",
    "\n",
    "print(np.mean(dists))\n",
    "print(np.std(dists))\n",
    "print(max(dists))\n",
    "print(min(dists))"
   ]
  },
  {
   "cell_type": "code",
   "execution_count": 48,
   "metadata": {},
   "outputs": [
    {
     "name": "stdout",
     "output_type": "stream",
     "text": [
      "14197.771\n",
      "2707.0703\n",
      "24412.375\n",
      "6974.1885\n"
     ]
    }
   ],
   "source": [
    "m=len(new_resp)-1\n",
    "dists=[]\n",
    "for i in range(len(new_resp[0])):\n",
    "    l1=random.randint(0,m)\n",
    "    l2=random.randint(0,m)\n",
    "    while l2 == l1:\n",
    "        l2=random.randint(0,m)\n",
    "        \n",
    "    dist=np.linalg.norm(new_resp[l1]-new_resp[l2])\n",
    "    dists.append(dist)\n",
    "\n",
    "print(np.mean(dists))\n",
    "print(np.std(dists))\n",
    "print(max(dists))\n",
    "print(min(dists))\n",
    "        "
   ]
  },
  {
   "cell_type": "code",
   "execution_count": 49,
   "metadata": {},
   "outputs": [
    {
     "name": "stdout",
     "output_type": "stream",
     "text": [
      "[(2, 88), (19, 2), (120, 2), (257, 2), (271, 2), (287, 2), (305, 2), (346, 2), (362, 2), (508, 2)]\n",
      "[(3, 39), (160, 3), (580, 3), (607, 3), (792, 3), (895, 3), (976, 3), (1445, 3), (1634, 3), (1696, 3)]\n",
      "[(4, 61), (1337, 4), (364, 3), (784, 3), (869, 3), (974, 3), (1290, 3), (1662, 3), (1859, 3), (2476, 3)]\n",
      "[(5, 80), (14, 3), (410, 3), (1452, 3), (1512, 3), (1714, 3), (2900, 3), (12, 2), (33, 2), (47, 2)]\n",
      "[(6, 89), (858, 3), (15, 2), (71, 2), (273, 2), (383, 2), (450, 2), (521, 2), (566, 2), (616, 2)]\n",
      "[(7, 66), (44, 3), (64, 3), (192, 3), (209, 3), (281, 3), (545, 3), (1063, 3), (1761, 3), (2202, 3)]\n",
      "[(8, 53), (673, 4), (132, 3), (162, 3), (454, 3), (471, 3), (519, 3), (1402, 3), (2031, 3), (2120, 3)]\n",
      "[(9, 81), (53, 3), (197, 3), (1587, 3), (14, 2), (15, 2), (58, 2), (63, 2), (78, 2), (80, 2)]\n",
      "[(10, 36), (630, 3), (664, 3), (949, 3), (1233, 3), (1284, 3), (2433, 3), (2434, 3), (2536, 3), (2694, 3)]\n",
      "[(11, 45), (920, 4), (1038, 4), (1529, 4), (3425, 4), (3927, 4), (221, 3), (244, 3), (461, 3), (623, 3)]\n"
     ]
    }
   ],
   "source": [
    "le1=len(new_resp)\n",
    "le2=len(new_resp[0])\n",
    "for nu in range (2,12):\n",
    "    n={}\n",
    "    for i in range (len(new_resp[0])):\n",
    "        n[i]=0\n",
    "\n",
    "    for i in range(100): #100 images only\n",
    "\n",
    "        tmp=[]\n",
    "        for u in range(le2):\n",
    "            if new_resp[i][nu] >0.0 and new_resp[i][u]>0:\n",
    "                if abs(new_resp[i][nu] - new_resp[i][u])<=5.0:\n",
    "                    n[u]+=1\n",
    "\n",
    "    sorted_x = list(sorted(n.items(), key=operator.itemgetter(1),reverse=True))\n",
    "    print(sorted_x[:10])"
   ]
  },
  {
   "cell_type": "code",
   "execution_count": 52,
   "metadata": {},
   "outputs": [
    {
     "name": "stdout",
     "output_type": "stream",
     "text": [
      "[(1, 3092), (12, 1602), (13, 1599), (94, 1594), (79, 1592)]\n"
     ]
    }
   ],
   "source": [
    "import operator\n",
    "n={}\n",
    "for i in range (len(new_resp[0])):\n",
    "    n[i]=0\n",
    "    \n",
    "le1=len(new_resp)\n",
    "le2=len(new_resp[0])\n",
    "\n",
    "for i in range(le1):\n",
    "    \n",
    "    tmp=[]\n",
    "    for u in range(le2):\n",
    "        if new_resp[i][1]>5.0:\n",
    "            if new_resp[i][u]>5.0:\n",
    "                n[u]+=1\n",
    "\n",
    "sorted_x = list(sorted(n.items(), key=operator.itemgetter(1),reverse=True))\n",
    "print(sorted_x[:5])"
   ]
  },
  {
   "cell_type": "code",
   "execution_count": null,
   "metadata": {},
   "outputs": [],
   "source": []
  }
 ],
 "metadata": {
  "kernelspec": {
   "display_name": "Python 3",
   "language": "python",
   "name": "python3"
  },
  "language_info": {
   "codemirror_mode": {
    "name": "ipython",
    "version": 3
   },
   "file_extension": ".py",
   "mimetype": "text/x-python",
   "name": "python",
   "nbconvert_exporter": "python",
   "pygments_lexer": "ipython3",
   "version": "3.7.3"
  }
 },
 "nbformat": 4,
 "nbformat_minor": 2
}
